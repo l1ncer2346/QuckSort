{
  "nbformat": 4,
  "nbformat_minor": 0,
  "metadata": {
    "colab": {
      "name": "Untitled2.ipynb",
      "provenance": [],
      "authorship_tag": "ABX9TyNe/aqakuEtv+syaVoxRYet",
      "include_colab_link": true
    },
    "kernelspec": {
      "name": "python3",
      "display_name": "Python 3"
    }
  },
  "cells": [
    {
      "cell_type": "markdown",
      "metadata": {
        "id": "view-in-github",
        "colab_type": "text"
      },
      "source": [
        "<a href=\"https://colab.research.google.com/github/l1ncer2346/QuickSort/blob/main/Untitled2.ipynb\" target=\"_parent\"><img src=\"https://colab.research.google.com/assets/colab-badge.svg\" alt=\"Open In Colab\"/></a>"
      ]
    },
    {
      "cell_type": "markdown",
      "metadata": {
        "id": "7zu_7Bq82oto"
      },
      "source": [
        "Quick Sort"
      ]
    },
    {
      "cell_type": "code",
      "metadata": {
        "id": "XOQdqSqat8gP",
        "outputId": "e9128f79-efac-4e66-9c7e-e4d5c905d0e5",
        "colab": {
          "base_uri": "https://localhost:8080/"
        }
      },
      "source": [
        "import random\n",
        "default_array = []\n",
        "for i in range(20):\n",
        "  default_array.append(random.randint(-20,21))\n",
        "\n",
        "print(\"Array before sorting: \", default_array)\n",
        "\n",
        "\n",
        "def QuickSort(array):\n",
        "  if len(array) <= 1:\n",
        "    return array\n",
        "  choiced_element = (len(array)-1)//2\n",
        "  #print(array)\n",
        "  #print(choiced_element)\n",
        "  #print(array[choiced_element])\n",
        "  \n",
        "  less_array = [i for i in array if i < array[choiced_element]]\n",
        "  more_array = [i for i in array if i > array[choiced_element]]\n",
        "  cent_array = [i for i in array if i == array[choiced_element]]\n",
        "\n",
        "  return (QuickSort(less_array) + cent_array + QuickSort(more_array))\n",
        "\n",
        "print(\"Sorted Array: \", QuickSort(default_array))\n",
        "\n",
        "\n"
      ],
      "execution_count": 23,
      "outputs": [
        {
          "output_type": "stream",
          "text": [
            "Array before sorting:  [-11, 14, -18, 12, -7, -12, -12, -7, 21, -7, 6, 2, -14, -8, 15, 20, -1, 3, -15, 13]\n",
            "Sorted Array:  [-18, -15, -14, -12, -12, -11, -8, -7, -7, -7, -1, 2, 3, 6, 12, 13, 14, 15, 20, 21]\n"
          ],
          "name": "stdout"
        }
      ]
    }
  ]
}